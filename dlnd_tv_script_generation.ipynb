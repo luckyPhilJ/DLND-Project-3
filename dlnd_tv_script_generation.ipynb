{
 "cells": [
  {
   "cell_type": "markdown",
   "metadata": {
    "deletable": true,
    "editable": true
   },
   "source": [
    "# TV Script Generation\n",
    "In this project, you'll generate your own [Simpsons](https://en.wikipedia.org/wiki/The_Simpsons) TV scripts using RNNs.  You'll be using part of the [Simpsons dataset](https://www.kaggle.com/wcukierski/the-simpsons-by-the-data) of scripts from 27 seasons.  The Neural Network you'll build will generate a new TV script for a scene at [Moe's Tavern](https://simpsonswiki.com/wiki/Moe's_Tavern).\n",
    "## Get the Data\n",
    "The data is already provided for you.  You'll be using a subset of the original dataset.  It consists of only the scenes in Moe's Tavern.  This doesn't include other versions of the tavern, like \"Moe's Cavern\", \"Flaming Moe's\", \"Uncle Moe's Family Feed-Bag\", etc.."
   ]
  },
  {
   "cell_type": "code",
   "execution_count": 1,
   "metadata": {
    "collapsed": false,
    "deletable": true,
    "editable": true
   },
   "outputs": [],
   "source": [
    "\"\"\"\n",
    "DON'T MODIFY ANYTHING IN THIS CELL\n",
    "\"\"\"\n",
    "import helper\n",
    "\n",
    "data_dir = './data/simpsons/moes_tavern_lines.txt'\n",
    "text = helper.load_data(data_dir)\n",
    "# Ignore notice, since we don't use it for analysing the data\n",
    "text = text[81:]"
   ]
  },
  {
   "cell_type": "markdown",
   "metadata": {
    "deletable": true,
    "editable": true
   },
   "source": [
    "## Explore the Data\n",
    "Play around with `view_sentence_range` to view different parts of the data."
   ]
  },
  {
   "cell_type": "code",
   "execution_count": 2,
   "metadata": {
    "collapsed": false,
    "deletable": true,
    "editable": true
   },
   "outputs": [
    {
     "name": "stdout",
     "output_type": "stream",
     "text": [
      "Dataset Stats\n",
      "Roughly the number of unique words: 11492\n",
      "Number of scenes: 262\n",
      "Average number of sentences in each scene: 15.248091603053435\n",
      "Number of lines: 4257\n",
      "Average number of words in each line: 11.50434578341555\n",
      "\n",
      "The sentences 50 to 80:\n",
      "Moe_Szyslak: Sorry, Homer.\n",
      "Homer_Simpson: (LOOKING AT WATCH) Ah. Finished with fifteen seconds to spare.\n",
      "Little_Man: (CONCERNED) What's the matter, buddy?\n",
      "Homer_Simpson: The moron next door closed early!\n",
      "Little_Man: (STIFFENING) I happen to be that moron.\n",
      "Homer_Simpson: Oh, me and my trenchant mouth.\n",
      "Homer_Simpson: Please, you've got to open that store.\n",
      "Little_Man: Let me think about it... Eh... No.\n",
      "Homer_Simpson: Okay, okay. But I want you to see a picture of the little girl you're disappointing. (GOES THROUGH HIS WALLET) Well I don't have one.\n",
      "Moe_Szyslak: (TO LITTLE MAN) Come on, Jer. Open up. Be a pal. Remember when I pulled you and your wife out of that burning car?\n",
      "Little_Man: (GRUDGINGLY) Okay. Okay. But now we're even. (TO HOMER) So what does your daughter need?\n",
      "Homer_Simpson: (SMOOTHLY) I'll have you know, I wrote it down.\n",
      "Homer_Simpson: Number Four and a half -- Stupid gum!\n",
      "Homer_Simpson: Number Four and a Half reed! Whoo hoo!\n",
      "Little_Man: Uh-huh. And what instrument does she play?\n",
      "Homer_Simpson: (SUNK) I dunno.\n",
      "\n",
      "\n",
      "Moe_Szyslak: (TO PATRONS) Figure of speech.\n",
      "Moe_Szyslak: Hiya, Homer. (SIGHS)\n",
      "Homer_Simpson: What's the matter, Moe?\n",
      "Moe_Szyslak: Ah, business is slow. People today are healthier and drinking less. You know, if it wasn't for the Junior High school next door no one would even use the cigarette machine.\n",
      "Homer_Simpson: (MOUTH FULL) Yeah, things are tough all over.\n",
      "Moe_Szyslak: Increased job satisfaction and family togetherness are poison for a purveyor of mind-numbing intoxicants like myself.\n",
      "Homer_Simpson: Could I get a beer?\n",
      "Moe_Szyslak: Uh, yeah, sure.\n",
      "Moe_Szyslak: Oh sorry, I forgot we're out of beer.\n",
      "Moe_Szyslak: Yeah, I know, I got behind on my beer payments. The distributor cut me off and I spent my last ten grand on the \"Love Tester\".\n",
      "Moe_Szyslak: You're too late, Homer. Barney sucked it dry. Cut his gums up pretty bad.\n",
      "Moe_Szyslak: Take it easy, Homer. I learned how to make other drinks at Bartender's School.\n"
     ]
    }
   ],
   "source": [
    "view_sentence_range = (50, 80)\n",
    "\n",
    "\"\"\"\n",
    "DON'T MODIFY ANYTHING IN THIS CELL\n",
    "\"\"\"\n",
    "import numpy as np\n",
    "\n",
    "print('Dataset Stats')\n",
    "print('Roughly the number of unique words: {}'.format(len({word: None for word in text.split()})))\n",
    "scenes = text.split('\\n\\n')\n",
    "print('Number of scenes: {}'.format(len(scenes)))\n",
    "sentence_count_scene = [scene.count('\\n') for scene in scenes]\n",
    "print('Average number of sentences in each scene: {}'.format(np.average(sentence_count_scene)))\n",
    "\n",
    "sentences = [sentence for scene in scenes for sentence in scene.split('\\n')]\n",
    "print('Number of lines: {}'.format(len(sentences)))\n",
    "word_count_sentence = [len(sentence.split()) for sentence in sentences]\n",
    "print('Average number of words in each line: {}'.format(np.average(word_count_sentence)))\n",
    "\n",
    "print()\n",
    "print('The sentences {} to {}:'.format(*view_sentence_range))\n",
    "print('\\n'.join(text.split('\\n')[view_sentence_range[0]:view_sentence_range[1]]))"
   ]
  },
  {
   "cell_type": "markdown",
   "metadata": {
    "deletable": true,
    "editable": true
   },
   "source": [
    "## Implement Preprocessing Functions\n",
    "The first thing to do to any dataset is preprocessing.  Implement the following preprocessing functions below:\n",
    "- Lookup Table\n",
    "- Tokenize Punctuation\n",
    "\n",
    "### Lookup Table\n",
    "To create a word embedding, you first need to transform the words to ids.  In this function, create two dictionaries:\n",
    "- Dictionary to go from the words to an id, we'll call `vocab_to_int`\n",
    "- Dictionary to go from the id to word, we'll call `int_to_vocab`\n",
    "\n",
    "Return these dictionaries in the following tuple `(vocab_to_int, int_to_vocab)`"
   ]
  },
  {
   "cell_type": "code",
   "execution_count": 3,
   "metadata": {
    "collapsed": false,
    "deletable": true,
    "editable": true
   },
   "outputs": [
    {
     "name": "stdout",
     "output_type": "stream",
     "text": [
      "Tests Passed\n"
     ]
    }
   ],
   "source": [
    "import numpy as np\n",
    "import problem_unittests as tests\n",
    "from collections import Counter\n",
    "\n",
    "def create_lookup_tables(text):\n",
    "    \"\"\"\n",
    "    Create lookup tables for vocabulary\n",
    "    :param text: The text of tv scripts split into words\n",
    "    :return: A tuple of dicts (vocab_to_int, int_to_vocab)\n",
    "    \"\"\"\n",
    "    # TODO: Implement Function\n",
    "    word_counts = Counter(text)\n",
    "    sorted_vocab = sorted(word_counts, key=word_counts.get, reverse=True)\n",
    "    int_to_vocab = {ii: word for ii, word in enumerate(sorted_vocab)}\n",
    "    vocab_to_int = {word: ii for ii, word in int_to_vocab.items()}\n",
    "\n",
    "    return vocab_to_int, int_to_vocab\n",
    "\n",
    "\n",
    "\"\"\"\n",
    "DON'T MODIFY ANYTHING IN THIS CELL THAT IS BELOW THIS LINE\n",
    "\"\"\"\n",
    "tests.test_create_lookup_tables(create_lookup_tables)"
   ]
  },
  {
   "cell_type": "markdown",
   "metadata": {
    "deletable": true,
    "editable": true
   },
   "source": [
    "### Tokenize Punctuation\n",
    "We'll be splitting the script into a word array using spaces as delimiters.  However, punctuations like periods and exclamation marks make it hard for the neural network to distinguish between the word \"bye\" and \"bye!\".\n",
    "\n",
    "Implement the function `token_lookup` to return a dict that will be used to tokenize symbols like \"!\" into \"||Exclamation_Mark||\".  Create a dictionary for the following symbols where the symbol is the key and value is the token:\n",
    "- Period ( . )\n",
    "- Comma ( , )\n",
    "- Quotation Mark ( \" )\n",
    "- Semicolon ( ; )\n",
    "- Exclamation mark ( ! )\n",
    "- Question mark ( ? )\n",
    "- Left Parentheses ( ( )\n",
    "- Right Parentheses ( ) )\n",
    "- Dash ( -- )\n",
    "- Return ( \\n )\n",
    "\n",
    "This dictionary will be used to token the symbols and add the delimiter (space) around it.  This separates the symbols as it's own word, making it easier for the neural network to predict on the next word. Make sure you don't use a token that could be confused as a word. Instead of using the token \"dash\", try using something like \"||dash||\"."
   ]
  },
  {
   "cell_type": "code",
   "execution_count": 4,
   "metadata": {
    "collapsed": false,
    "deletable": true,
    "editable": true
   },
   "outputs": [
    {
     "name": "stdout",
     "output_type": "stream",
     "text": [
      "Tests Passed\n"
     ]
    }
   ],
   "source": [
    "def token_lookup():\n",
    "    \"\"\"\n",
    "    Generate a dict to turn punctuation into a token.\n",
    "    :return: Tokenize dictionary where the key is the punctuation and the value is the token\n",
    "    \"\"\"\n",
    "    # TODO: Implement Function\n",
    "    punk_dict = {'.':'||Period||',\n",
    "                ',':'||Comma||',\n",
    "                '\"':'||Quotation_mark||',\n",
    "                ';':'||Semicolon||',\n",
    "                '!':'||Exclamation_mark||',\n",
    "                '?':'||Question_mark||',\n",
    "                '(':'||Left_Parentheses||',\n",
    "                ')':'||Right_Parentheses||',\n",
    "                '--':'||Dash||',\n",
    "                '\\n':'||Return||'}\n",
    "    \n",
    "    return punk_dict\n",
    "\n",
    "\"\"\"\n",
    "DON'T MODIFY ANYTHING IN THIS CELL THAT IS BELOW THIS LINE\n",
    "\"\"\"\n",
    "tests.test_tokenize(token_lookup)"
   ]
  },
  {
   "cell_type": "markdown",
   "metadata": {
    "deletable": true,
    "editable": true
   },
   "source": [
    "## Preprocess all the data and save it\n",
    "Running the code cell below will preprocess all the data and save it to file."
   ]
  },
  {
   "cell_type": "code",
   "execution_count": 5,
   "metadata": {
    "collapsed": false,
    "deletable": true,
    "editable": true
   },
   "outputs": [],
   "source": [
    "\"\"\"\n",
    "DON'T MODIFY ANYTHING IN THIS CELL\n",
    "\"\"\"\n",
    "# Preprocess Training, Validation, and Testing Data\n",
    "helper.preprocess_and_save_data(data_dir, token_lookup, create_lookup_tables)"
   ]
  },
  {
   "cell_type": "markdown",
   "metadata": {
    "deletable": true,
    "editable": true
   },
   "source": [
    "# Check Point\n",
    "This is your first checkpoint. If you ever decide to come back to this notebook or have to restart the notebook, you can start from here. The preprocessed data has been saved to disk."
   ]
  },
  {
   "cell_type": "code",
   "execution_count": 6,
   "metadata": {
    "collapsed": false,
    "deletable": true,
    "editable": true
   },
   "outputs": [],
   "source": [
    "\"\"\"\n",
    "DON'T MODIFY ANYTHING IN THIS CELL\n",
    "\"\"\"\n",
    "import helper\n",
    "import numpy as np\n",
    "import problem_unittests as tests\n",
    "\n",
    "int_text, vocab_to_int, int_to_vocab, token_dict = helper.load_preprocess()"
   ]
  },
  {
   "cell_type": "markdown",
   "metadata": {
    "deletable": true,
    "editable": true
   },
   "source": [
    "## Build the Neural Network\n",
    "You'll build the components necessary to build a RNN by implementing the following functions below:\n",
    "- get_inputs\n",
    "- get_init_cell\n",
    "- get_embed\n",
    "- build_rnn\n",
    "- build_nn\n",
    "- get_batches\n",
    "\n",
    "### Check the Version of TensorFlow and Access to GPU"
   ]
  },
  {
   "cell_type": "code",
   "execution_count": 7,
   "metadata": {
    "collapsed": false,
    "deletable": true,
    "editable": true
   },
   "outputs": [
    {
     "name": "stdout",
     "output_type": "stream",
     "text": [
      "TensorFlow Version: 1.0.0\n",
      "Default GPU Device: /gpu:0\n"
     ]
    }
   ],
   "source": [
    "\"\"\"\n",
    "DON'T MODIFY ANYTHING IN THIS CELL\n",
    "\"\"\"\n",
    "from distutils.version import LooseVersion\n",
    "import warnings\n",
    "import tensorflow as tf\n",
    "\n",
    "# Check TensorFlow Version\n",
    "assert LooseVersion(tf.__version__) >= LooseVersion('1.0'), 'Please use TensorFlow version 1.0 or newer'\n",
    "print('TensorFlow Version: {}'.format(tf.__version__))\n",
    "\n",
    "# Check for a GPU\n",
    "if not tf.test.gpu_device_name():\n",
    "    warnings.warn('No GPU found. Please use a GPU to train your neural network.')\n",
    "else:\n",
    "    print('Default GPU Device: {}'.format(tf.test.gpu_device_name()))"
   ]
  },
  {
   "cell_type": "markdown",
   "metadata": {
    "deletable": true,
    "editable": true
   },
   "source": [
    "### Input\n",
    "Implement the `get_inputs()` function to create TF Placeholders for the Neural Network.  It should create the following placeholders:\n",
    "- Input text placeholder named \"input\" using the [TF Placeholder](https://www.tensorflow.org/api_docs/python/tf/placeholder) `name` parameter.\n",
    "- Targets placeholder\n",
    "- Learning Rate placeholder\n",
    "\n",
    "Return the placeholders in the following tuple `(Input, Targets, LearningRate)`"
   ]
  },
  {
   "cell_type": "code",
   "execution_count": 8,
   "metadata": {
    "collapsed": false,
    "deletable": true,
    "editable": true
   },
   "outputs": [
    {
     "name": "stdout",
     "output_type": "stream",
     "text": [
      "Tests Passed\n"
     ]
    }
   ],
   "source": [
    "def get_inputs():\n",
    "    \"\"\"\n",
    "    Create TF Placeholders for input, targets, and learning rate.\n",
    "    :return: Tuple (input, targets, learning rate)\n",
    "    \"\"\"\n",
    "    # TODO: Implement Function\n",
    "    # Declare placeholders we'll feed into the graph\n",
    "    inputs = tf.placeholder(tf.int32, [None,None], name='input')\n",
    "    targets = tf.placeholder(tf.int32, [None,None], name='targets')\n",
    "    \n",
    "    # Keep probability placeholder for drop out layers\n",
    "    learning_rate = tf.placeholder(tf.float32, name='learning_rate')\n",
    "    \n",
    "    \n",
    "    \n",
    "    return inputs, targets, learning_rate\n",
    "\n",
    "\n",
    "\"\"\"\n",
    "DON'T MODIFY ANYTHING IN THIS CELL THAT IS BELOW THIS LINE\n",
    "\"\"\"\n",
    "tests.test_get_inputs(get_inputs)"
   ]
  },
  {
   "cell_type": "markdown",
   "metadata": {
    "deletable": true,
    "editable": true
   },
   "source": [
    "### Build RNN Cell and Initialize\n",
    "Stack one or more [`BasicLSTMCells`](https://www.tensorflow.org/api_docs/python/tf/contrib/rnn/BasicLSTMCell) in a [`MultiRNNCell`](https://www.tensorflow.org/api_docs/python/tf/contrib/rnn/MultiRNNCell).\n",
    "- The Rnn size should be set using `rnn_size`\n",
    "- Initalize Cell State using the MultiRNNCell's [`zero_state()`](https://www.tensorflow.org/api_docs/python/tf/contrib/rnn/MultiRNNCell#zero_state) function\n",
    "    - Apply the name \"initial_state\" to the initial state using [`tf.identity()`](https://www.tensorflow.org/api_docs/python/tf/identity)\n",
    "\n",
    "Return the cell and initial state in the following tuple `(Cell, InitialState)`"
   ]
  },
  {
   "cell_type": "code",
   "execution_count": 9,
   "metadata": {
    "collapsed": false,
    "deletable": true,
    "editable": true
   },
   "outputs": [
    {
     "name": "stdout",
     "output_type": "stream",
     "text": [
      "Tests Passed\n"
     ]
    }
   ],
   "source": [
    "def get_init_cell(batch_size, rnn_size):\n",
    "    \"\"\"\n",
    "    Create an RNN Cell and initialize it.\n",
    "    :param batch_size: Size of batches\n",
    "    :param rnn_size: Size of RNNs\n",
    "    :return: Tuple (cell, initialize state)\n",
    "    \"\"\"\n",
    "    # TODO: Implement Function\n",
    "    \n",
    "    num_layers = 2\n",
    "    \n",
    "    ### Build the LSTM Cell\n",
    "    # Use a basic LSTM cell\n",
    "    lstm = tf.contrib.rnn.BasicLSTMCell(rnn_size)\n",
    "    \n",
    "    # Stack up multiple LSTM layers, for deep learning\n",
    "    cell = tf.contrib.rnn.MultiRNNCell([lstm] * num_layers)\n",
    "    initial_state = tf.identity(cell.zero_state(batch_size, tf.float32), name=\"initial_state\")\n",
    "   \n",
    "    return cell, initial_state\n",
    "\n",
    "\n",
    "\"\"\"\n",
    "DON'T MODIFY ANYTHING IN THIS CELL THAT IS BELOW THIS LINE\n",
    "\"\"\"\n",
    "tests.test_get_init_cell(get_init_cell)"
   ]
  },
  {
   "cell_type": "markdown",
   "metadata": {
    "deletable": true,
    "editable": true
   },
   "source": [
    "### Word Embedding\n",
    "Apply embedding to `input_data` using TensorFlow.  Return the embedded sequence."
   ]
  },
  {
   "cell_type": "code",
   "execution_count": 10,
   "metadata": {
    "collapsed": false,
    "deletable": true,
    "editable": true
   },
   "outputs": [
    {
     "name": "stdout",
     "output_type": "stream",
     "text": [
      "Tests Passed\n"
     ]
    }
   ],
   "source": [
    "def get_embed(input_data, vocab_size, embed_dim):\n",
    "    \"\"\"\n",
    "    Create embedding for <input_data>.\n",
    "    :param input_data: TF placeholder for text input.\n",
    "    :param vocab_size: Number of words in vocabulary.\n",
    "    :param embed_dim: Number of embedding dimensions\n",
    "    :return: Embedded input.\n",
    "    \"\"\"\n",
    "    # TODO: Implement Function\n",
    "\n",
    "    embedding = tf.Variable(tf.random_uniform((vocab_size, embed_dim), -1, 1))\n",
    "    embed = tf.nn.embedding_lookup(embedding, input_data)\n",
    "    return embed\n",
    "\n",
    "\n",
    "\"\"\"\n",
    "DON'T MODIFY ANYTHING IN THIS CELL THAT IS BELOW THIS LINE\n",
    "\"\"\"\n",
    "tests.test_get_embed(get_embed)"
   ]
  },
  {
   "cell_type": "markdown",
   "metadata": {
    "deletable": true,
    "editable": true
   },
   "source": [
    "### Build RNN\n",
    "You created a RNN Cell in the `get_init_cell()` function.  Time to use the cell to create a RNN.\n",
    "- Build the RNN using the [`tf.nn.dynamic_rnn()`](https://www.tensorflow.org/api_docs/python/tf/nn/dynamic_rnn)\n",
    " - Apply the name \"final_state\" to the final state using [`tf.identity()`](https://www.tensorflow.org/api_docs/python/tf/identity)\n",
    "\n",
    "Return the outputs and final_state state in the following tuple `(Outputs, FinalState)` "
   ]
  },
  {
   "cell_type": "code",
   "execution_count": 11,
   "metadata": {
    "collapsed": false,
    "deletable": true,
    "editable": true
   },
   "outputs": [
    {
     "name": "stdout",
     "output_type": "stream",
     "text": [
      "Tests Passed\n"
     ]
    }
   ],
   "source": [
    "def build_rnn(cell, inputs):\n",
    "    \"\"\"\n",
    "    Create a RNN using a RNN Cell\n",
    "    :param cell: RNN Cell\n",
    "    :param inputs: Input text data\n",
    "    :return: Tuple (Outputs, Final State)\n",
    "    \"\"\"\n",
    "    # TODO: Implement Function\n",
    "\n",
    "    outputs, final_state = tf.nn.dynamic_rnn(cell, inputs, dtype = tf.float32, initial_state = None)\n",
    "    final_state = tf.identity(final_state, name = \"final_state\")\n",
    "    return outputs, final_state\n",
    "\n",
    "\n",
    "\"\"\"\n",
    "DON'T MODIFY ANYTHING IN THIS CELL THAT IS BELOW THIS LINE\n",
    "\"\"\"\n",
    "tests.test_build_rnn(build_rnn)"
   ]
  },
  {
   "cell_type": "markdown",
   "metadata": {
    "deletable": true,
    "editable": true
   },
   "source": [
    "### Build the Neural Network\n",
    "Apply the functions you implemented above to:\n",
    "- Apply embedding to `input_data` using your `get_embed(input_data, vocab_size, embed_dim)` function.\n",
    "- Build RNN using `cell` and your `build_rnn(cell, inputs)` function.\n",
    "- Apply a fully connected layer with a linear activation and `vocab_size` as the number of outputs.\n",
    "\n",
    "Return the logits and final state in the following tuple (Logits, FinalState) "
   ]
  },
  {
   "cell_type": "code",
   "execution_count": 12,
   "metadata": {
    "collapsed": false,
    "deletable": true,
    "editable": true
   },
   "outputs": [
    {
     "name": "stdout",
     "output_type": "stream",
     "text": [
      "Tests Passed\n"
     ]
    }
   ],
   "source": [
    "def build_nn(cell, rnn_size, input_data, vocab_size, embed_dim):\n",
    "    \"\"\"\n",
    "    Build part of the neural network\n",
    "    :param cell: RNN cell\n",
    "    :param rnn_size: Size of rnns\n",
    "    :param input_data: Input data\n",
    "    :param vocab_size: Vocabulary size\n",
    "    :param embed_dim: Number of embedding dimensions\n",
    "    :return: Tuple (Logits, FinalState)\n",
    "    \"\"\"\n",
    "    # TODO: Implement Function\n",
    "    embed = get_embed(input_data, vocab_size, embed_dim)\n",
    "    lstm_output, final_state = build_rnn(cell, embed) \n",
    "    \n",
    "    # Reshape\n",
    "    #seq_output = tf.concat(lstm_output, axis=1)\n",
    "    #x = tf.reshape(seq_output, [-1, rnn_size])\n",
    "    \n",
    "    weights = tf.truncated_normal_initializer(stddev=0.1)\n",
    "    bias = tf.zeros_initializer()\n",
    "    \n",
    "    logits = tf.contrib.layers.fully_connected(lstm_output, vocab_size, weights_initializer = weights, biases_initializer = bias, activation_fn= None)\n",
    "                       \n",
    "    return logits, final_state\n",
    "\n",
    "\n",
    "\"\"\"\n",
    "DON'T MODIFY ANYTHING IN THIS CELL THAT IS BELOW THIS LINE\n",
    "\"\"\"\n",
    "tests.test_build_nn(build_nn)"
   ]
  },
  {
   "cell_type": "markdown",
   "metadata": {
    "deletable": true,
    "editable": true
   },
   "source": [
    "### Batches\n",
    "Implement `get_batches` to create batches of input and targets using `int_text`.  The batches should be a Numpy array with the shape `(number of batches, 2, batch size, sequence length)`. Each batch contains two elements:\n",
    "- The first element is a single batch of **input** with the shape `[batch size, sequence length]`\n",
    "- The second element is a single batch of **targets** with the shape `[batch size, sequence length]`\n",
    "\n",
    "If you can't fill the last batch with enough data, drop the last batch.\n",
    "\n",
    "For exmple, `get_batches([1, 2, 3, 4, 5, 6, 7, 8, 9, 10, 11, 12, 13, 14, 15, 16, 17, 18, 19, 20], 3, 2)` would return a Numpy array of the following:\n",
    "```\n",
    "[\n",
    "  # First Batch\n",
    "  [\n",
    "    # Batch of Input\n",
    "    [[ 1  2], [ 7  8], [13 14]]\n",
    "    # Batch of targets\n",
    "    [[ 2  3], [ 8  9], [14 15]]\n",
    "  ]\n",
    "\n",
    "  # Second Batch\n",
    "  [\n",
    "    # Batch of Input\n",
    "    [[ 3  4], [ 9 10], [15 16]]\n",
    "    # Batch of targets\n",
    "    [[ 4  5], [10 11], [16 17]]\n",
    "  ]\n",
    "\n",
    "  # Third Batch\n",
    "  [\n",
    "    # Batch of Input\n",
    "    [[ 5  6], [11 12], [17 18]]\n",
    "    # Batch of targets\n",
    "    [[ 6  7], [12 13], [18  1]]\n",
    "  ]\n",
    "]\n",
    "```\n",
    "\n",
    "Notice that the last target value in the last batch is the first input value of the first batch. In this case, `1`. This is a common technique used when creating sequence batches, although it is rather unintuitive."
   ]
  },
  {
   "cell_type": "code",
   "execution_count": 13,
   "metadata": {
    "collapsed": false,
    "deletable": true,
    "editable": true
   },
   "outputs": [
    {
     "name": "stdout",
     "output_type": "stream",
     "text": [
      "Tests Passed\n"
     ]
    }
   ],
   "source": [
    "def get_batches(int_text, batch_size, seq_length):\n",
    "    \"\"\"\n",
    "    Return batches of input and target\n",
    "    :param int_text: Text with the words replaced by their ids\n",
    "    :param batch_size: The size of batch\n",
    "    :param seq_length: The length of sequence\n",
    "    :return: Batches as a Numpy array\n",
    "    \"\"\"\n",
    "    # TODO: Implement Function\n",
    "    text_len = len(int_text)\n",
    "    total_batch = batch_size * seq_length\n",
    "    no_batches = text_len // total_batch\n",
    "    int_text = np.array(int_text[:total_batch * no_batches])\n",
    "\n",
    "    # Create offsetting targets\n",
    "\n",
    "    targets = np.zeros_like(int_text)\n",
    "    targets[:-1], targets[-1] = int_text[1:], int_text[0]\n",
    "\n",
    "    # Create output array\n",
    "\n",
    "    output = np.zeros(len(int_text) * 2)\n",
    "    output = np.resize(output,(no_batches,2,batch_size,seq_length))\n",
    "\n",
    "    # inputs\n",
    "    int_text = np.reshape(int_text,(batch_size,-1))\n",
    "\n",
    "    for bs in range(0,batch_size):\n",
    "        for nb in range(0,no_batches):\n",
    "            output[nb,0,bs] = int_text[bs,nb * seq_length : nb * seq_length + seq_length]\n",
    "\n",
    "    # targets\n",
    "    targets = np.reshape(targets,(batch_size,-1))\n",
    "\n",
    "    for bs in range(0,batch_size):\n",
    "        for nb in range(0,no_batches):\n",
    "            output[nb,1,bs] = targets[bs,nb * seq_length : nb * seq_length + seq_length]\n",
    "\n",
    "    return output\n",
    "\n",
    "\n",
    "\"\"\"\n",
    "DON'T MODIFY ANYTHING IN THIS CELL THAT IS BELOW THIS LINE\n",
    "\"\"\"\n",
    "tests.test_get_batches(get_batches)"
   ]
  },
  {
   "cell_type": "markdown",
   "metadata": {
    "deletable": true,
    "editable": true
   },
   "source": [
    "## Neural Network Training\n",
    "### Hyperparameters\n",
    "Tune the following parameters:\n",
    "\n",
    "- Set `num_epochs` to the number of epochs.\n",
    "- Set `batch_size` to the batch size.\n",
    "- Set `rnn_size` to the size of the RNNs.\n",
    "- Set `embed_dim` to the size of the embedding.\n",
    "- Set `seq_length` to the length of sequence.\n",
    "- Set `learning_rate` to the learning rate.\n",
    "- Set `show_every_n_batches` to the number of batches the neural network should print progress."
   ]
  },
  {
   "cell_type": "code",
   "execution_count": 17,
   "metadata": {
    "collapsed": true,
    "deletable": true,
    "editable": true
   },
   "outputs": [],
   "source": [
    "# Number of Epochs\n",
    "num_epochs = 100\n",
    "# Batch Size\n",
    "batch_size = 128\n",
    "# RNN Size\n",
    "rnn_size = 300\n",
    "# Embedding Dimension Size\n",
    "embed_dim = 200\n",
    "# Sequence Length\n",
    "seq_length = 5\n",
    "# Learning Rate\n",
    "learning_rate = .001\n",
    "# Show stats for every n number of batches\n",
    "show_every_n_batches = 50\n",
    "\n",
    "\"\"\"\n",
    "DON'T MODIFY ANYTHING IN THIS CELL THAT IS BELOW THIS LINE\n",
    "\"\"\"\n",
    "save_dir = './save'"
   ]
  },
  {
   "cell_type": "markdown",
   "metadata": {
    "deletable": true,
    "editable": true
   },
   "source": [
    "### Build the Graph\n",
    "Build the graph using the neural network you implemented."
   ]
  },
  {
   "cell_type": "code",
   "execution_count": 18,
   "metadata": {
    "collapsed": false,
    "deletable": true,
    "editable": true
   },
   "outputs": [],
   "source": [
    "\"\"\"\n",
    "DON'T MODIFY ANYTHING IN THIS CELL\n",
    "\"\"\"\n",
    "from tensorflow.contrib import seq2seq\n",
    "\n",
    "train_graph = tf.Graph()\n",
    "with train_graph.as_default():\n",
    "    vocab_size = len(int_to_vocab)\n",
    "    input_text, targets, lr = get_inputs()\n",
    "    input_data_shape = tf.shape(input_text)\n",
    "    cell, initial_state = get_init_cell(input_data_shape[0], rnn_size)\n",
    "    logits, final_state = build_nn(cell, rnn_size, input_text, vocab_size, embed_dim)\n",
    "\n",
    "    # Probabilities for generating words\n",
    "    probs = tf.nn.softmax(logits, name='probs')\n",
    "\n",
    "    # Loss function\n",
    "    cost = seq2seq.sequence_loss(\n",
    "        logits,\n",
    "        targets,\n",
    "        tf.ones([input_data_shape[0], input_data_shape[1]]))\n",
    "\n",
    "    # Optimizer\n",
    "    optimizer = tf.train.AdamOptimizer(lr)\n",
    "\n",
    "    # Gradient Clipping\n",
    "    gradients = optimizer.compute_gradients(cost)\n",
    "    capped_gradients = [(tf.clip_by_value(grad, -1., 1.), var) for grad, var in gradients if grad is not None]\n",
    "    train_op = optimizer.apply_gradients(capped_gradients)"
   ]
  },
  {
   "cell_type": "markdown",
   "metadata": {
    "deletable": true,
    "editable": true
   },
   "source": [
    "## Train\n",
    "Train the neural network on the preprocessed data.  If you have a hard time getting a good loss, check the [forms](https://discussions.udacity.com/) to see if anyone is having the same problem."
   ]
  },
  {
   "cell_type": "code",
   "execution_count": 19,
   "metadata": {
    "collapsed": false,
    "deletable": true,
    "editable": true
   },
   "outputs": [
    {
     "name": "stdout",
     "output_type": "stream",
     "text": [
      "Epoch   0 Batch    0/107   train_loss = 8.821\n",
      "Epoch   0 Batch   50/107   train_loss = 5.916\n",
      "Epoch   0 Batch  100/107   train_loss = 5.552\n",
      "Epoch   1 Batch   43/107   train_loss = 5.265\n",
      "Epoch   1 Batch   93/107   train_loss = 5.358\n",
      "Epoch   2 Batch   36/107   train_loss = 4.909\n",
      "Epoch   2 Batch   86/107   train_loss = 4.740\n",
      "Epoch   3 Batch   29/107   train_loss = 4.917\n",
      "Epoch   3 Batch   79/107   train_loss = 4.731\n",
      "Epoch   4 Batch   22/107   train_loss = 4.773\n",
      "Epoch   4 Batch   72/107   train_loss = 4.535\n",
      "Epoch   5 Batch   15/107   train_loss = 4.568\n",
      "Epoch   5 Batch   65/107   train_loss = 4.427\n",
      "Epoch   6 Batch    8/107   train_loss = 4.281\n",
      "Epoch   6 Batch   58/107   train_loss = 4.181\n",
      "Epoch   7 Batch    1/107   train_loss = 4.167\n",
      "Epoch   7 Batch   51/107   train_loss = 3.998\n",
      "Epoch   7 Batch  101/107   train_loss = 3.906\n",
      "Epoch   8 Batch   44/107   train_loss = 3.697\n",
      "Epoch   8 Batch   94/107   train_loss = 3.722\n",
      "Epoch   9 Batch   37/107   train_loss = 3.643\n",
      "Epoch   9 Batch   87/107   train_loss = 3.462\n",
      "Epoch  10 Batch   30/107   train_loss = 3.401\n",
      "Epoch  10 Batch   80/107   train_loss = 3.317\n",
      "Epoch  11 Batch   23/107   train_loss = 3.277\n",
      "Epoch  11 Batch   73/107   train_loss = 3.371\n",
      "Epoch  12 Batch   16/107   train_loss = 3.174\n",
      "Epoch  12 Batch   66/107   train_loss = 2.950\n",
      "Epoch  13 Batch    9/107   train_loss = 2.963\n",
      "Epoch  13 Batch   59/107   train_loss = 2.901\n",
      "Epoch  14 Batch    2/107   train_loss = 2.759\n",
      "Epoch  14 Batch   52/107   train_loss = 2.743\n",
      "Epoch  14 Batch  102/107   train_loss = 2.689\n",
      "Epoch  15 Batch   45/107   train_loss = 2.616\n",
      "Epoch  15 Batch   95/107   train_loss = 2.471\n",
      "Epoch  16 Batch   38/107   train_loss = 2.345\n",
      "Epoch  16 Batch   88/107   train_loss = 2.497\n",
      "Epoch  17 Batch   31/107   train_loss = 2.441\n",
      "Epoch  17 Batch   81/107   train_loss = 2.242\n",
      "Epoch  18 Batch   24/107   train_loss = 2.124\n",
      "Epoch  18 Batch   74/107   train_loss = 2.128\n",
      "Epoch  19 Batch   17/107   train_loss = 2.157\n",
      "Epoch  19 Batch   67/107   train_loss = 1.947\n",
      "Epoch  20 Batch   10/107   train_loss = 1.941\n",
      "Epoch  20 Batch   60/107   train_loss = 1.788\n",
      "Epoch  21 Batch    3/107   train_loss = 1.939\n",
      "Epoch  21 Batch   53/107   train_loss = 1.817\n",
      "Epoch  21 Batch  103/107   train_loss = 1.811\n",
      "Epoch  22 Batch   46/107   train_loss = 1.723\n",
      "Epoch  22 Batch   96/107   train_loss = 1.630\n",
      "Epoch  23 Batch   39/107   train_loss = 1.645\n",
      "Epoch  23 Batch   89/107   train_loss = 1.542\n",
      "Epoch  24 Batch   32/107   train_loss = 1.467\n",
      "Epoch  24 Batch   82/107   train_loss = 1.555\n",
      "Epoch  25 Batch   25/107   train_loss = 1.454\n",
      "Epoch  25 Batch   75/107   train_loss = 1.384\n",
      "Epoch  26 Batch   18/107   train_loss = 1.459\n",
      "Epoch  26 Batch   68/107   train_loss = 1.428\n",
      "Epoch  27 Batch   11/107   train_loss = 1.409\n",
      "Epoch  27 Batch   61/107   train_loss = 1.340\n",
      "Epoch  28 Batch    4/107   train_loss = 1.268\n",
      "Epoch  28 Batch   54/107   train_loss = 1.306\n",
      "Epoch  28 Batch  104/107   train_loss = 1.144\n",
      "Epoch  29 Batch   47/107   train_loss = 1.245\n",
      "Epoch  29 Batch   97/107   train_loss = 1.220\n",
      "Epoch  30 Batch   40/107   train_loss = 1.169\n",
      "Epoch  30 Batch   90/107   train_loss = 1.070\n",
      "Epoch  31 Batch   33/107   train_loss = 1.098\n",
      "Epoch  31 Batch   83/107   train_loss = 1.143\n",
      "Epoch  32 Batch   26/107   train_loss = 1.130\n",
      "Epoch  32 Batch   76/107   train_loss = 1.055\n",
      "Epoch  33 Batch   19/107   train_loss = 1.150\n",
      "Epoch  33 Batch   69/107   train_loss = 1.016\n",
      "Epoch  34 Batch   12/107   train_loss = 1.035\n",
      "Epoch  34 Batch   62/107   train_loss = 1.018\n",
      "Epoch  35 Batch    5/107   train_loss = 1.019\n",
      "Epoch  35 Batch   55/107   train_loss = 1.006\n",
      "Epoch  35 Batch  105/107   train_loss = 1.066\n",
      "Epoch  36 Batch   48/107   train_loss = 1.057\n",
      "Epoch  36 Batch   98/107   train_loss = 1.042\n",
      "Epoch  37 Batch   41/107   train_loss = 0.938\n",
      "Epoch  37 Batch   91/107   train_loss = 0.979\n",
      "Epoch  38 Batch   34/107   train_loss = 0.962\n",
      "Epoch  38 Batch   84/107   train_loss = 1.002\n",
      "Epoch  39 Batch   27/107   train_loss = 0.987\n",
      "Epoch  39 Batch   77/107   train_loss = 0.938\n",
      "Epoch  40 Batch   20/107   train_loss = 0.924\n",
      "Epoch  40 Batch   70/107   train_loss = 0.942\n",
      "Epoch  41 Batch   13/107   train_loss = 0.999\n",
      "Epoch  41 Batch   63/107   train_loss = 0.899\n",
      "Epoch  42 Batch    6/107   train_loss = 0.951\n",
      "Epoch  42 Batch   56/107   train_loss = 0.996\n",
      "Epoch  42 Batch  106/107   train_loss = 0.841\n",
      "Epoch  43 Batch   49/107   train_loss = 0.994\n",
      "Epoch  43 Batch   99/107   train_loss = 0.912\n",
      "Epoch  44 Batch   42/107   train_loss = 0.987\n",
      "Epoch  44 Batch   92/107   train_loss = 0.885\n",
      "Epoch  45 Batch   35/107   train_loss = 0.879\n",
      "Epoch  45 Batch   85/107   train_loss = 0.997\n",
      "Epoch  46 Batch   28/107   train_loss = 0.901\n",
      "Epoch  46 Batch   78/107   train_loss = 0.955\n",
      "Epoch  47 Batch   21/107   train_loss = 0.856\n",
      "Epoch  47 Batch   71/107   train_loss = 0.883\n",
      "Epoch  48 Batch   14/107   train_loss = 0.889\n",
      "Epoch  48 Batch   64/107   train_loss = 0.943\n",
      "Epoch  49 Batch    7/107   train_loss = 0.871\n",
      "Epoch  49 Batch   57/107   train_loss = 0.970\n",
      "Epoch  50 Batch    0/107   train_loss = 0.913\n",
      "Epoch  50 Batch   50/107   train_loss = 0.851\n",
      "Epoch  50 Batch  100/107   train_loss = 0.841\n",
      "Epoch  51 Batch   43/107   train_loss = 0.886\n",
      "Epoch  51 Batch   93/107   train_loss = 0.880\n",
      "Epoch  52 Batch   36/107   train_loss = 0.898\n",
      "Epoch  52 Batch   86/107   train_loss = 0.960\n",
      "Epoch  53 Batch   29/107   train_loss = 0.952\n",
      "Epoch  53 Batch   79/107   train_loss = 0.924\n",
      "Epoch  54 Batch   22/107   train_loss = 0.912\n",
      "Epoch  54 Batch   72/107   train_loss = 0.878\n",
      "Epoch  55 Batch   15/107   train_loss = 0.924\n",
      "Epoch  55 Batch   65/107   train_loss = 0.872\n",
      "Epoch  56 Batch    8/107   train_loss = 0.964\n",
      "Epoch  56 Batch   58/107   train_loss = 0.905\n",
      "Epoch  57 Batch    1/107   train_loss = 0.895\n",
      "Epoch  57 Batch   51/107   train_loss = 0.945\n",
      "Epoch  57 Batch  101/107   train_loss = 0.883\n",
      "Epoch  58 Batch   44/107   train_loss = 0.895\n",
      "Epoch  58 Batch   94/107   train_loss = 0.884\n",
      "Epoch  59 Batch   37/107   train_loss = 0.962\n",
      "Epoch  59 Batch   87/107   train_loss = 0.889\n",
      "Epoch  60 Batch   30/107   train_loss = 0.879\n",
      "Epoch  60 Batch   80/107   train_loss = 0.939\n",
      "Epoch  61 Batch   23/107   train_loss = 0.807\n",
      "Epoch  61 Batch   73/107   train_loss = 0.879\n",
      "Epoch  62 Batch   16/107   train_loss = 0.878\n",
      "Epoch  62 Batch   66/107   train_loss = 0.871\n",
      "Epoch  63 Batch    9/107   train_loss = 0.881\n",
      "Epoch  63 Batch   59/107   train_loss = 0.913\n",
      "Epoch  64 Batch    2/107   train_loss = 0.827\n",
      "Epoch  64 Batch   52/107   train_loss = 0.883\n",
      "Epoch  64 Batch  102/107   train_loss = 0.932\n",
      "Epoch  65 Batch   45/107   train_loss = 0.837\n",
      "Epoch  65 Batch   95/107   train_loss = 0.864\n",
      "Epoch  66 Batch   38/107   train_loss = 0.874\n",
      "Epoch  66 Batch   88/107   train_loss = 0.961\n",
      "Epoch  67 Batch   31/107   train_loss = 0.993\n",
      "Epoch  67 Batch   81/107   train_loss = 0.839\n",
      "Epoch  68 Batch   24/107   train_loss = 0.938\n",
      "Epoch  68 Batch   74/107   train_loss = 0.900\n",
      "Epoch  69 Batch   17/107   train_loss = 0.885\n",
      "Epoch  69 Batch   67/107   train_loss = 0.876\n",
      "Epoch  70 Batch   10/107   train_loss = 0.882\n",
      "Epoch  70 Batch   60/107   train_loss = 0.850\n",
      "Epoch  71 Batch    3/107   train_loss = 0.966\n",
      "Epoch  71 Batch   53/107   train_loss = 0.846\n",
      "Epoch  71 Batch  103/107   train_loss = 0.848\n",
      "Epoch  72 Batch   46/107   train_loss = 0.877\n",
      "Epoch  72 Batch   96/107   train_loss = 0.869\n",
      "Epoch  73 Batch   39/107   train_loss = 0.833\n",
      "Epoch  73 Batch   89/107   train_loss = 0.795\n",
      "Epoch  74 Batch   32/107   train_loss = 0.874\n",
      "Epoch  74 Batch   82/107   train_loss = 0.899\n",
      "Epoch  75 Batch   25/107   train_loss = 0.878\n",
      "Epoch  75 Batch   75/107   train_loss = 0.829\n",
      "Epoch  76 Batch   18/107   train_loss = 0.897\n",
      "Epoch  76 Batch   68/107   train_loss = 0.864\n",
      "Epoch  77 Batch   11/107   train_loss = 0.886\n",
      "Epoch  77 Batch   61/107   train_loss = 0.880\n",
      "Epoch  78 Batch    4/107   train_loss = 0.856\n",
      "Epoch  78 Batch   54/107   train_loss = 0.852\n",
      "Epoch  78 Batch  104/107   train_loss = 0.795\n",
      "Epoch  79 Batch   47/107   train_loss = 0.892\n",
      "Epoch  79 Batch   97/107   train_loss = 0.948\n",
      "Epoch  80 Batch   40/107   train_loss = 0.916\n",
      "Epoch  80 Batch   90/107   train_loss = 0.784\n",
      "Epoch  81 Batch   33/107   train_loss = 0.853\n",
      "Epoch  81 Batch   83/107   train_loss = 0.878\n",
      "Epoch  82 Batch   26/107   train_loss = 0.887\n",
      "Epoch  82 Batch   76/107   train_loss = 0.844\n",
      "Epoch  83 Batch   19/107   train_loss = 0.939\n",
      "Epoch  83 Batch   69/107   train_loss = 0.857\n",
      "Epoch  84 Batch   12/107   train_loss = 0.830\n",
      "Epoch  84 Batch   62/107   train_loss = 0.853\n",
      "Epoch  85 Batch    5/107   train_loss = 0.846\n",
      "Epoch  85 Batch   55/107   train_loss = 0.854\n",
      "Epoch  85 Batch  105/107   train_loss = 0.873\n",
      "Epoch  86 Batch   48/107   train_loss = 0.889\n",
      "Epoch  86 Batch   98/107   train_loss = 0.891\n",
      "Epoch  87 Batch   41/107   train_loss = 0.809\n",
      "Epoch  87 Batch   91/107   train_loss = 0.845\n",
      "Epoch  88 Batch   34/107   train_loss = 0.852\n",
      "Epoch  88 Batch   84/107   train_loss = 0.885\n",
      "Epoch  89 Batch   27/107   train_loss = 0.850\n",
      "Epoch  89 Batch   77/107   train_loss = 0.821\n",
      "Epoch  90 Batch   20/107   train_loss = 0.824\n",
      "Epoch  90 Batch   70/107   train_loss = 0.850\n",
      "Epoch  91 Batch   13/107   train_loss = 0.897\n",
      "Epoch  91 Batch   63/107   train_loss = 0.816\n",
      "Epoch  92 Batch    6/107   train_loss = 0.871\n",
      "Epoch  92 Batch   56/107   train_loss = 0.897\n",
      "Epoch  92 Batch  106/107   train_loss = 0.764\n",
      "Epoch  93 Batch   49/107   train_loss = 0.923\n",
      "Epoch  93 Batch   99/107   train_loss = 0.836\n",
      "Epoch  94 Batch   42/107   train_loss = 0.879\n",
      "Epoch  94 Batch   92/107   train_loss = 0.825\n",
      "Epoch  95 Batch   35/107   train_loss = 0.827\n",
      "Epoch  95 Batch   85/107   train_loss = 0.943\n",
      "Epoch  96 Batch   28/107   train_loss = 0.833\n",
      "Epoch  96 Batch   78/107   train_loss = 0.884\n",
      "Epoch  97 Batch   21/107   train_loss = 0.795\n",
      "Epoch  97 Batch   71/107   train_loss = 0.828\n",
      "Epoch  98 Batch   14/107   train_loss = 0.862\n",
      "Epoch  98 Batch   64/107   train_loss = 0.885\n",
      "Epoch  99 Batch    7/107   train_loss = 0.846\n",
      "Epoch  99 Batch   57/107   train_loss = 0.927\n",
      "Model Trained and Saved\n"
     ]
    }
   ],
   "source": [
    "\"\"\"\n",
    "DON'T MODIFY ANYTHING IN THIS CELL\n",
    "\"\"\"\n",
    "batches = get_batches(int_text, batch_size, seq_length)\n",
    "\n",
    "with tf.Session(graph=train_graph) as sess:\n",
    "    sess.run(tf.global_variables_initializer())\n",
    "\n",
    "    for epoch_i in range(num_epochs):\n",
    "        state = sess.run(initial_state, {input_text: batches[0][0]})\n",
    "\n",
    "        for batch_i, (x, y) in enumerate(batches):\n",
    "            feed = {\n",
    "                input_text: x,\n",
    "                targets: y,\n",
    "                initial_state: state,\n",
    "                lr: learning_rate}\n",
    "            train_loss, state, _ = sess.run([cost, final_state, train_op], feed)\n",
    "\n",
    "            # Show every <show_every_n_batches> batches\n",
    "            if (epoch_i * len(batches) + batch_i) % show_every_n_batches == 0:\n",
    "                print('Epoch {:>3} Batch {:>4}/{}   train_loss = {:.3f}'.format(\n",
    "                    epoch_i,\n",
    "                    batch_i,\n",
    "                    len(batches),\n",
    "                    train_loss))\n",
    "\n",
    "    # Save Model\n",
    "    saver = tf.train.Saver()\n",
    "    saver.save(sess, save_dir)\n",
    "    print('Model Trained and Saved')"
   ]
  },
  {
   "cell_type": "markdown",
   "metadata": {
    "deletable": true,
    "editable": true
   },
   "source": [
    "## Save Parameters\n",
    "Save `seq_length` and `save_dir` for generating a new TV script."
   ]
  },
  {
   "cell_type": "code",
   "execution_count": 20,
   "metadata": {
    "collapsed": false,
    "deletable": true,
    "editable": true
   },
   "outputs": [],
   "source": [
    "\"\"\"\n",
    "DON'T MODIFY ANYTHING IN THIS CELL\n",
    "\"\"\"\n",
    "# Save parameters for checkpoint\n",
    "helper.save_params((seq_length, save_dir))"
   ]
  },
  {
   "cell_type": "markdown",
   "metadata": {
    "deletable": true,
    "editable": true
   },
   "source": [
    "# Checkpoint"
   ]
  },
  {
   "cell_type": "code",
   "execution_count": 21,
   "metadata": {
    "collapsed": false,
    "deletable": true,
    "editable": true
   },
   "outputs": [],
   "source": [
    "\"\"\"\n",
    "DON'T MODIFY ANYTHING IN THIS CELL\n",
    "\"\"\"\n",
    "import tensorflow as tf\n",
    "import numpy as np\n",
    "import helper\n",
    "import problem_unittests as tests\n",
    "\n",
    "_, vocab_to_int, int_to_vocab, token_dict = helper.load_preprocess()\n",
    "seq_length, load_dir = helper.load_params()"
   ]
  },
  {
   "cell_type": "markdown",
   "metadata": {
    "deletable": true,
    "editable": true
   },
   "source": [
    "## Implement Generate Functions\n",
    "### Get Tensors\n",
    "Get tensors from `loaded_graph` using the function [`get_tensor_by_name()`](https://www.tensorflow.org/api_docs/python/tf/Graph#get_tensor_by_name).  Get the tensors using the following names:\n",
    "- \"input:0\"\n",
    "- \"initial_state:0\"\n",
    "- \"final_state:0\"\n",
    "- \"probs:0\"\n",
    "\n",
    "Return the tensors in the following tuple `(InputTensor, InitialStateTensor, FinalStateTensor, ProbsTensor)` "
   ]
  },
  {
   "cell_type": "code",
   "execution_count": 22,
   "metadata": {
    "collapsed": false,
    "deletable": true,
    "editable": true
   },
   "outputs": [
    {
     "name": "stdout",
     "output_type": "stream",
     "text": [
      "Tests Passed\n"
     ]
    }
   ],
   "source": [
    "def get_tensors(loaded_graph):\n",
    "    \"\"\"\n",
    "    Get input, initial state, final state, and probabilities tensor from <loaded_graph>\n",
    "    :param loaded_graph: TensorFlow graph loaded from file\n",
    "    :return: Tuple (InputTensor, InitialStateTensor, FinalStateTensor, ProbsTensor)\n",
    "    \"\"\"\n",
    "    # TODO: Implement Function\n",
    "    InputTensor = loaded_graph.get_tensor_by_name('input:0')\n",
    "    InitialStateTensor = loaded_graph.get_tensor_by_name('initial_state:0')\n",
    "    FinalStateTensor = loaded_graph.get_tensor_by_name('final_state:0')\n",
    "    ProbsTensor = loaded_graph.get_tensor_by_name('probs:0')\n",
    "    \n",
    "    return InputTensor, InitialStateTensor, FinalStateTensor, ProbsTensor\n",
    "\n",
    "\"\"\"\n",
    "DON'T MODIFY ANYTHING IN THIS CELL THAT IS BELOW THIS LINE\n",
    "\"\"\"\n",
    "tests.test_get_tensors(get_tensors)"
   ]
  },
  {
   "cell_type": "markdown",
   "metadata": {
    "deletable": true,
    "editable": true
   },
   "source": [
    "### Choose Word\n",
    "Implement the `pick_word()` function to select the next word using `probabilities`."
   ]
  },
  {
   "cell_type": "code",
   "execution_count": 23,
   "metadata": {
    "collapsed": false,
    "deletable": true,
    "editable": true
   },
   "outputs": [
    {
     "name": "stdout",
     "output_type": "stream",
     "text": [
      "Tests Passed\n"
     ]
    }
   ],
   "source": [
    "def pick_word(probabilities, int_to_vocab):\n",
    "    \"\"\"\n",
    "    Pick the next word in the generated text\n",
    "    :param probabilities: Probabilites of the next word\n",
    "    :param int_to_vocab: Dictionary of word ids as the keys and words as the values\n",
    "    :return: String of the predicted word\n",
    "    \"\"\"\n",
    "    # TODO: Implement Function\n",
    "    word = np.random.choice(list(int_to_vocab.values()),p=probabilities)\n",
    "    \n",
    "    return word\n",
    "\n",
    "\n",
    "\"\"\"\n",
    "DON'T MODIFY ANYTHING IN THIS CELL THAT IS BELOW THIS LINE\n",
    "\"\"\"\n",
    "tests.test_pick_word(pick_word)"
   ]
  },
  {
   "cell_type": "markdown",
   "metadata": {
    "deletable": true,
    "editable": true
   },
   "source": [
    "## Generate TV Script\n",
    "This will generate the TV script for you.  Set `gen_length` to the length of TV script you want to generate."
   ]
  },
  {
   "cell_type": "code",
   "execution_count": 24,
   "metadata": {
    "collapsed": false,
    "deletable": true,
    "editable": true
   },
   "outputs": [
    {
     "name": "stdout",
     "output_type": "stream",
     "text": [
      "moe_szyslak: oh. here we are?\n",
      "moe_szyslak: huh... every like that wouldn't look me, in here?\n",
      "homer_simpson: don't worry. she got a little five... with a great time to make him with it?\n",
      "homer_simpson:(very happy) so you're very good beer.\n",
      "moe_szyslak: boy, homer? you so leave back tonight your time.\n",
      "duffman: sorry, moe. you think the other hand out from a man i sent to that out of the bars be a new person...\n",
      "moe_szyslak: before i got these this way to hurt me?\n",
      "moe_szyslak:(intrigued) are you think you see?\" you are very dad with moe's more on a human child...(then) let's see this happened crap!\n",
      "maybe y'know, in a way.\n",
      "lisa_simpson:(walks up) go, moe, moe.\n",
      "moe_szyslak: hey...\n",
      "moe_szyslak:(sobs) oh, god, some like that can we wanted it in the time i saw you and the squishee feet\n"
     ]
    }
   ],
   "source": [
    "gen_length = 200\n",
    "# homer_simpson, moe_szyslak, or Barney_Gumble\n",
    "prime_word = 'moe_szyslak'\n",
    "\n",
    "\"\"\"\n",
    "DON'T MODIFY ANYTHING IN THIS CELL THAT IS BELOW THIS LINE\n",
    "\"\"\"\n",
    "loaded_graph = tf.Graph()\n",
    "with tf.Session(graph=loaded_graph) as sess:\n",
    "    # Load saved model\n",
    "    loader = tf.train.import_meta_graph(load_dir + '.meta')\n",
    "    loader.restore(sess, load_dir)\n",
    "\n",
    "    # Get Tensors from loaded model\n",
    "    input_text, initial_state, final_state, probs = get_tensors(loaded_graph)\n",
    "\n",
    "    # Sentences generation setup\n",
    "    gen_sentences = [prime_word + ':']\n",
    "    prev_state = sess.run(initial_state, {input_text: np.array([[1]])})\n",
    "\n",
    "    # Generate sentences\n",
    "    for n in range(gen_length):\n",
    "        # Dynamic Input\n",
    "        dyn_input = [[vocab_to_int[word] for word in gen_sentences[-seq_length:]]]\n",
    "        dyn_seq_length = len(dyn_input[0])\n",
    "\n",
    "        # Get Prediction\n",
    "        probabilities, prev_state = sess.run(\n",
    "            [probs, final_state],\n",
    "            {input_text: dyn_input, initial_state: prev_state})\n",
    "        \n",
    "        pred_word = pick_word(probabilities[dyn_seq_length-1], int_to_vocab)\n",
    "\n",
    "        gen_sentences.append(pred_word)\n",
    "    \n",
    "    # Remove tokens\n",
    "    tv_script = ' '.join(gen_sentences)\n",
    "    for key, token in token_dict.items():\n",
    "        ending = ' ' if key in ['\\n', '(', '\"'] else ''\n",
    "        tv_script = tv_script.replace(' ' + token.lower(), key)\n",
    "    tv_script = tv_script.replace('\\n ', '\\n')\n",
    "    tv_script = tv_script.replace('( ', '(')\n",
    "        \n",
    "    print(tv_script)"
   ]
  },
  {
   "cell_type": "markdown",
   "metadata": {
    "deletable": true,
    "editable": true
   },
   "source": [
    "# The TV Script is Nonsensical\n",
    "It's ok if the TV script doesn't make any sense.  We trained on less than a megabyte of text.  In order to get good results, you'll have to use a smaller vocabulary or get more data.  Luckly there's more data!  As we mentioned in the begging of this project, this is a subset of [another dataset](https://www.kaggle.com/wcukierski/the-simpsons-by-the-data).  We didn't have you train on all the data, because that would take too long.  However, you are free to train your neural network on all the data.  After you complete the project, of course.\n",
    "# Submitting This Project\n",
    "When submitting this project, make sure to run all the cells before saving the notebook. Save the notebook file as \"dlnd_tv_script_generation.ipynb\" and save it as a HTML file under \"File\" -> \"Download as\". Include the \"helper.py\" and \"problem_unittests.py\" files in your submission."
   ]
  }
 ],
 "metadata": {
  "kernelspec": {
   "display_name": "Python 3",
   "language": "python",
   "name": "python3"
  },
  "language_info": {
   "codemirror_mode": {
    "name": "ipython",
    "version": 3
   },
   "file_extension": ".py",
   "mimetype": "text/x-python",
   "name": "python",
   "nbconvert_exporter": "python",
   "pygments_lexer": "ipython3",
   "version": "3.5.3"
  },
  "widgets": {
   "state": {},
   "version": "1.1.2"
  }
 },
 "nbformat": 4,
 "nbformat_minor": 0
}
